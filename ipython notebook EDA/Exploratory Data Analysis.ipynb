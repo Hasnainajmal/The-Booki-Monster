{
 "cells": [
  {
   "cell_type": "code",
   "execution_count": 2,
   "metadata": {
    "collapsed": true
   },
   "outputs": [],
   "source": [
    "%matplotlib inline\n",
    "import numpy as np\n",
    "import pandas as pd\n",
    "import model\n",
    "import clean_blinkist\n",
    "import format_books\n",
    "from gensim.models import Doc2Vec\n",
    "from gensim.models.doc2vec import LabeledSentence\n",
    "from nltk import sent_tokenize, word_tokenize\n",
    "import matplotlib.pyplot as plt\n",
    "import seaborn as sns\n",
    "from scoring import find_ngrams, rouge_score"
   ]
  },
  {
   "cell_type": "markdown",
   "metadata": {
    "collapsed": true
   },
   "source": [
    "# How does the reference summary compare to the entire book?\n",
    "1. Get a clean reference summary + clean book text\n",
    "    - Moonwalking with Einstein\n",
    "    - 4 Hour Workweek\n",
    "    - Sapiens\n",
    "    - Mindset\n",
    "2. Comparison\n",
    "    - Get document vector of reference summary\n",
    "    - Get document vector of model-produced summary\n",
    "    - Get document vector of entire book\n",
    "    "
   ]
  },
  {
   "cell_type": "code",
   "execution_count": 3,
   "metadata": {
    "collapsed": false
   },
   "outputs": [],
   "source": [
    "ref_summary = model.load_data('blinkistsummarytxt/blinkistsapiens.txt')\n",
    "reference_summary_cleaned = model.clean_line(ref_summary)\n",
    "reference_summary = model.format_summary(reference_summary_cleaned)"
   ]
  },
  {
   "cell_type": "code",
   "execution_count": 4,
   "metadata": {
    "collapsed": false
   },
   "outputs": [
    {
     "data": {
      "text/plain": [
       "191"
      ]
     },
     "execution_count": 4,
     "metadata": {},
     "output_type": "execute_result"
    }
   ],
   "source": [
    "book_txt = ref_summary = model.load_data('booktxt/Sapiens.txt')\n",
    "sliced_book = format_books.get_sections(book_txt)\n",
    "kinda_clean_book = [format_books.get_rid_of_weird_characters(section) for section in sliced_book]\n",
    "more_clean_book = format_books.chapter_paragraph_tag(kinda_clean_book)\n",
    "combined = format_books.combine_strings_split_on_chapter(more_clean_book) #A list of chapters.\n",
    "split = format_books.split_by_section(combined)\n",
    "\n",
    "formatted_sentence = format_books.format_sentences(split)\n",
    "\n",
    "total_book = ' '.join(kinda_clean_book)\n",
    "sentences_in_book = sent_tokenize(total_book)\n",
    "\n",
    "joined_summary = \" \".join([\"\".join(string) for string in reference_summary])\n",
    "tokenized_summary = sent_tokenize(joined_summary)\n",
    "\n",
    "len(tokenized_summary)"
   ]
  },
  {
   "cell_type": "code",
   "execution_count": 5,
   "metadata": {
    "collapsed": false
   },
   "outputs": [
    {
     "data": {
      "text/plain": [
       "7119"
      ]
     },
     "execution_count": 5,
     "metadata": {},
     "output_type": "execute_result"
    }
   ],
   "source": [
    "def doc2vec_EDA(ref_summary, book):\n",
    "#     joined_chapter = \" \".join([\" \".join(string) for string in chapter])\n",
    "#     tokenized_chapter = sent_tokenize(joined_chapter)\n",
    "\n",
    "    class LabeledLineSentence(object):\n",
    "        '''\n",
    "        Create generator of reference summary & entire book to create vectors\n",
    "        '''\n",
    "        def __init__(self, summary, book):\n",
    "            self.summary = summary\n",
    "            self.book = book\n",
    "        def __iter__(self):\n",
    "            yield LabeledSentence(words= ' '.join(self.summary).split(), tags=['REF SUMMARY'])\n",
    "            yield LabeledSentence(words = ' '.join(self.book).split(), tags = ['WHOLE BOOK'])\n",
    "            for uid, line in enumerate(self.book):\n",
    "                yield LabeledSentence(words=line.split(), tags=[int(uid)])\n",
    "                \n",
    "\n",
    "    x = LabeledLineSentence(ref_summary, book)\n",
    "\n",
    "    model = Doc2Vec()\n",
    "    model.build_vocab(x)\n",
    "    model.train(x)\n",
    "    similar_sentence_vectors = np.array(model.docvecs.most_similar('REF SUMMARY', topn = 229))\n",
    "    return similar_sentence_vectors\n",
    "\n",
    "len(sentences_in_book)"
   ]
  },
  {
   "cell_type": "code",
   "execution_count": 6,
   "metadata": {
    "collapsed": false
   },
   "outputs": [
    {
     "data": {
      "text/plain": [
       "array([[  1.24200000e+03,   9.99595761e-01],\n",
       "       [  6.24000000e+02,   9.99467909e-01],\n",
       "       [  1.79200000e+03,   9.99463797e-01],\n",
       "       [  1.20500000e+03,   9.99446869e-01],\n",
       "       [  8.35000000e+02,   9.99424279e-01],\n",
       "       [  1.22300000e+03,   9.99423027e-01],\n",
       "       [  1.80000000e+01,   9.99353051e-01],\n",
       "       [  3.44900000e+03,   9.99339104e-01],\n",
       "       [  1.56500000e+03,   9.99334097e-01],\n",
       "       [  2.13200000e+03,   9.99320567e-01],\n",
       "       [  5.07800000e+03,   9.99292612e-01],\n",
       "       [  5.22000000e+02,   9.99272108e-01],\n",
       "       [  1.51000000e+02,   9.99259949e-01],\n",
       "       [  3.05300000e+03,   9.99194860e-01],\n",
       "       [  1.60900000e+03,   9.99192119e-01],\n",
       "       [  1.08400000e+03,   9.99122381e-01],\n",
       "       [  8.71000000e+02,   9.99097466e-01],\n",
       "       [  4.27100000e+03,   9.99097168e-01],\n",
       "       [  8.34000000e+02,   9.99074817e-01],\n",
       "       [  2.68800000e+03,   9.99066889e-01],\n",
       "       [  1.37400000e+03,   9.99053240e-01],\n",
       "       [  5.78300000e+03,   9.99015689e-01],\n",
       "       [  1.39100000e+03,   9.99014974e-01],\n",
       "       [  7.45000000e+02,   9.99011815e-01],\n",
       "       [  6.96200000e+03,   9.99006271e-01],\n",
       "       [  4.28000000e+02,   9.98996377e-01],\n",
       "       [  8.70000000e+01,   9.98993278e-01],\n",
       "       [  8.00000000e+01,   9.98991787e-01],\n",
       "       [  2.23900000e+03,   9.98982370e-01],\n",
       "       [  1.60400000e+03,   9.98965740e-01],\n",
       "       [  6.35000000e+02,   9.98965561e-01],\n",
       "       [  3.07000000e+02,   9.98961568e-01],\n",
       "       [  1.49900000e+03,   9.98954892e-01],\n",
       "       [  6.16000000e+02,   9.98953283e-01],\n",
       "       [  3.81700000e+03,   9.98948753e-01],\n",
       "       [  7.34000000e+02,   9.98946548e-01],\n",
       "       [  5.87000000e+02,   9.98946428e-01],\n",
       "       [  6.11000000e+02,   9.98945653e-01],\n",
       "       [  7.01000000e+02,   9.98940170e-01],\n",
       "       [  1.23500000e+03,   9.98936057e-01],\n",
       "       [  1.79700000e+03,   9.98935997e-01],\n",
       "       [  7.43000000e+02,   9.98935163e-01],\n",
       "       [  3.02200000e+03,   9.98906434e-01],\n",
       "       [  1.15000000e+02,   9.98888969e-01],\n",
       "       [  2.15200000e+03,   9.98888373e-01],\n",
       "       [  1.23900000e+03,   9.98885155e-01],\n",
       "       [  1.08000000e+03,   9.98882771e-01],\n",
       "       [  3.31000000e+02,   9.98882651e-01],\n",
       "       [  8.42000000e+02,   9.98881400e-01],\n",
       "       [  4.96600000e+03,   9.98878598e-01],\n",
       "       [  4.01200000e+03,   9.98873234e-01],\n",
       "       [  1.91000000e+02,   9.98871088e-01],\n",
       "       [  7.39000000e+02,   9.98864055e-01],\n",
       "       [  7.75000000e+02,   9.98862565e-01],\n",
       "       [  1.42900000e+03,   9.98859286e-01],\n",
       "       [  3.57500000e+03,   9.98840392e-01],\n",
       "       [  4.47000000e+02,   9.98827755e-01],\n",
       "       [  6.59000000e+02,   9.98820961e-01],\n",
       "       [  3.45200000e+03,   9.98816550e-01],\n",
       "       [  1.24700000e+03,   9.98815477e-01],\n",
       "       [  1.36500000e+03,   9.98812318e-01],\n",
       "       [  3.08000000e+02,   9.98807192e-01],\n",
       "       [  1.77000000e+03,   9.98807013e-01],\n",
       "       [  8.53000000e+02,   9.98800576e-01],\n",
       "       [  2.40500000e+03,   9.98788059e-01],\n",
       "       [  1.71300000e+03,   9.98786092e-01],\n",
       "       [  7.77000000e+02,   9.98772085e-01],\n",
       "       [  2.35400000e+03,   9.98771548e-01],\n",
       "       [  1.80500000e+03,   9.98771310e-01],\n",
       "       [  3.06600000e+03,   9.98767853e-01],\n",
       "       [  3.61900000e+03,   9.98765826e-01],\n",
       "       [  7.15000000e+02,   9.98764694e-01],\n",
       "       [  6.95600000e+03,   9.98764396e-01],\n",
       "       [  3.21000000e+02,   9.98759508e-01],\n",
       "       [  2.21700000e+03,   9.98758912e-01],\n",
       "       [  4.27600000e+03,   9.98752236e-01],\n",
       "       [  6.74000000e+02,   9.98748779e-01],\n",
       "       [  1.77300000e+03,   9.98747349e-01],\n",
       "       [  9.40000000e+02,   9.98742163e-01],\n",
       "       [  5.78000000e+02,   9.98741627e-01],\n",
       "       [  5.70000000e+01,   9.98739183e-01],\n",
       "       [  1.81000000e+02,   9.98738408e-01],\n",
       "       [  2.80300000e+03,   9.98732746e-01],\n",
       "       [  7.02100000e+03,   9.98721063e-01],\n",
       "       [  6.40000000e+01,   9.98720288e-01],\n",
       "       [  6.38000000e+02,   9.98711050e-01],\n",
       "       [  1.12100000e+03,   9.98709798e-01],\n",
       "       [  5.40000000e+01,   9.98707652e-01],\n",
       "       [  9.89000000e+02,   9.98705983e-01],\n",
       "       [  2.61500000e+03,   9.98689055e-01],\n",
       "       [  5.50100000e+03,   9.98678207e-01],\n",
       "       [  1.36400000e+03,   9.98674750e-01],\n",
       "       [  7.02000000e+02,   9.98666763e-01],\n",
       "       [  1.06900000e+03,   9.98663843e-01],\n",
       "       [  4.54000000e+02,   9.98652458e-01],\n",
       "       [  6.85500000e+03,   9.98637319e-01],\n",
       "       [  2.57000000e+02,   9.98634577e-01],\n",
       "       [  1.06600000e+03,   9.98632073e-01],\n",
       "       [  4.06200000e+03,   9.98628855e-01],\n",
       "       [  3.67000000e+03,   9.98611987e-01],\n",
       "       [  2.56400000e+03,   9.98604774e-01],\n",
       "       [  1.94000000e+02,   9.98602331e-01],\n",
       "       [  4.76100000e+03,   9.98599291e-01],\n",
       "       [  1.45700000e+03,   9.98593867e-01],\n",
       "       [  7.73000000e+02,   9.98586714e-01],\n",
       "       [  6.77000000e+02,   9.98586655e-01],\n",
       "       [  6.72000000e+02,   9.98578191e-01],\n",
       "       [  1.24300000e+03,   9.98576939e-01],\n",
       "       [  1.87000000e+02,   9.98576760e-01],\n",
       "       [  3.60000000e+02,   9.98576403e-01],\n",
       "       [  5.83000000e+02,   9.98573303e-01],\n",
       "       [  1.27200000e+03,   9.98572826e-01],\n",
       "       [  1.17800000e+03,   9.98554587e-01],\n",
       "       [  1.10000000e+03,   9.98554111e-01],\n",
       "       [  2.29500000e+03,   9.98551965e-01],\n",
       "       [  4.75900000e+03,   9.98551607e-01],\n",
       "       [  4.56000000e+02,   9.98539507e-01],\n",
       "       [  3.60600000e+03,   9.98533368e-01],\n",
       "       [  2.37300000e+03,   9.98531163e-01],\n",
       "       [  6.79000000e+02,   9.98528361e-01],\n",
       "       [  3.06500000e+03,   9.98510182e-01],\n",
       "       [  1.54300000e+03,   9.98504460e-01],\n",
       "       [  7.33000000e+02,   9.98501718e-01],\n",
       "       [  1.37900000e+03,   9.98496294e-01],\n",
       "       [  3.07300000e+03,   9.98474002e-01],\n",
       "       [  2.05000000e+02,   9.98470724e-01],\n",
       "       [  6.29000000e+02,   9.98461604e-01],\n",
       "       [  7.03000000e+02,   9.98446465e-01],\n",
       "       [  1.01900000e+03,   9.98443961e-01],\n",
       "       [  2.72900000e+03,   9.98438358e-01],\n",
       "       [  1.26200000e+03,   9.98434544e-01],\n",
       "       [  6.78000000e+02,   9.98433232e-01],\n",
       "       [  1.16100000e+03,   9.98427570e-01],\n",
       "       [  9.92000000e+02,   9.98415947e-01],\n",
       "       [  2.72800000e+03,   9.98414755e-01],\n",
       "       [  7.56000000e+02,   9.98405933e-01],\n",
       "       [  7.50000000e+01,   9.98404622e-01],\n",
       "       [  4.86300000e+03,   9.98399019e-01],\n",
       "       [  1.07200000e+03,   9.98394608e-01],\n",
       "       [  5.72000000e+02,   9.98391211e-01],\n",
       "       [  5.02100000e+03,   9.98389840e-01],\n",
       "       [  6.04000000e+03,   9.98388648e-01],\n",
       "       [  1.07000000e+02,   9.98386502e-01],\n",
       "       [  3.03200000e+03,   9.98382926e-01],\n",
       "       [  7.26000000e+02,   9.98382509e-01],\n",
       "       [  2.86200000e+03,   9.98378873e-01],\n",
       "       [  3.99000000e+02,   9.98373866e-01],\n",
       "       [  3.70000000e+01,   9.98369098e-01],\n",
       "       [  4.13500000e+03,   9.98364925e-01],\n",
       "       [  6.15000000e+02,   9.98359680e-01],\n",
       "       [  2.17900000e+03,   9.98358548e-01],\n",
       "       [  2.07800000e+03,   9.98353362e-01],\n",
       "       [  1.08100000e+03,   9.98351991e-01],\n",
       "       [  1.15200000e+03,   9.98349071e-01],\n",
       "       [  2.08000000e+03,   9.98348773e-01],\n",
       "       [  6.03000000e+02,   9.98347044e-01],\n",
       "       [  5.07100000e+03,   9.98346210e-01],\n",
       "       [  4.49700000e+03,   9.98345971e-01],\n",
       "       [  6.05200000e+03,   9.98342276e-01],\n",
       "       [  1.61700000e+03,   9.98337626e-01],\n",
       "       [  4.81000000e+02,   9.98335958e-01],\n",
       "       [  5.86000000e+02,   9.98332381e-01],\n",
       "       [  2.61000000e+02,   9.98331189e-01],\n",
       "       [  4.88900000e+03,   9.98326361e-01],\n",
       "       [  3.77000000e+02,   9.98324752e-01],\n",
       "       [  3.51500000e+03,   9.98323917e-01],\n",
       "       [  6.99000000e+02,   9.98319149e-01],\n",
       "       [  2.36000000e+02,   9.98306870e-01],\n",
       "       [  4.23100000e+03,   9.98301685e-01],\n",
       "       [  1.17000000e+02,   9.98300076e-01],\n",
       "       [  7.44000000e+02,   9.98286605e-01],\n",
       "       [  1.40400000e+03,   9.98271108e-01],\n",
       "       [  2.89300000e+03,   9.98267710e-01],\n",
       "       [  1.76400000e+03,   9.98264551e-01],\n",
       "       [  4.58600000e+03,   9.98263538e-01],\n",
       "       [  1.25000000e+02,   9.98261988e-01],\n",
       "       [  1.60300000e+03,   9.98260677e-01],\n",
       "       [  3.82800000e+03,   9.98249233e-01],\n",
       "       [  7.04000000e+02,   9.98233736e-01],\n",
       "       [  5.60000000e+02,   9.98232722e-01],\n",
       "       [  5.24100000e+03,   9.98230755e-01],\n",
       "       [  5.60000000e+01,   9.98225808e-01],\n",
       "       [  1.14500000e+03,   9.98223543e-01],\n",
       "       [  2.53100000e+03,   9.98215556e-01],\n",
       "       [  3.48500000e+03,   9.98214245e-01],\n",
       "       [  1.17200000e+03,   9.98207808e-01],\n",
       "       [  4.74400000e+03,   9.98205960e-01],\n",
       "       [  7.51000000e+02,   9.98198926e-01],\n",
       "       [  1.73400000e+03,   9.98188317e-01],\n",
       "       [  7.24000000e+02,   9.98180985e-01],\n",
       "       [  4.14000000e+02,   9.98174429e-01],\n",
       "       [  1.19300000e+03,   9.98173714e-01],\n",
       "       [  3.41400000e+03,   9.98172700e-01],\n",
       "       [  4.14300000e+03,   9.98170614e-01],\n",
       "       [  5.80000000e+02,   9.98169780e-01],\n",
       "       [  4.50000000e+02,   9.98163700e-01],\n",
       "       [  7.69000000e+02,   9.98158991e-01],\n",
       "       [  2.42500000e+03,   9.98156250e-01],\n",
       "       [  3.38800000e+03,   9.98156190e-01],\n",
       "       [  9.94000000e+02,   9.98151839e-01],\n",
       "       [  1.47700000e+03,   9.98142660e-01],\n",
       "       [  8.25000000e+02,   9.98138905e-01],\n",
       "       [  9.19000000e+02,   9.98137593e-01],\n",
       "       [  2.65000000e+03,   9.98136520e-01],\n",
       "       [  5.70500000e+03,   9.98128772e-01],\n",
       "       [  6.35200000e+03,   9.98125553e-01],\n",
       "       [  2.28600000e+03,   9.98123825e-01],\n",
       "       [  4.10000000e+03,   9.98122036e-01],\n",
       "       [  6.10000000e+02,   9.98118699e-01],\n",
       "       [  2.07000000e+02,   9.98115003e-01],\n",
       "       [  7.07000000e+02,   9.98113692e-01],\n",
       "       [  1.73000000e+03,   9.98107433e-01],\n",
       "       [  1.49300000e+03,   9.98100579e-01],\n",
       "       [  1.18000000e+02,   9.98094559e-01],\n",
       "       [  1.30000000e+01,   9.98093724e-01],\n",
       "       [  4.29300000e+03,   9.98092055e-01],\n",
       "       [  6.06000000e+02,   9.98086870e-01],\n",
       "       [  3.01100000e+03,   9.98078942e-01],\n",
       "       [  3.55100000e+03,   9.98069167e-01],\n",
       "       [  5.75000000e+02,   9.98066366e-01],\n",
       "       [  1.36800000e+03,   9.98062730e-01],\n",
       "       [  3.84400000e+03,   9.98061717e-01],\n",
       "       [  2.02000000e+02,   9.98061597e-01],\n",
       "       [  3.76100000e+03,   9.98060942e-01],\n",
       "       [  4.17000000e+02,   9.98052239e-01],\n",
       "       [  1.74400000e+03,   9.98046637e-01],\n",
       "       [  3.16100000e+03,   9.98045802e-01],\n",
       "       [  9.14000000e+02,   9.98045743e-01],\n",
       "       [  4.29500000e+03,   9.98043060e-01]])"
      ]
     },
     "execution_count": 6,
     "metadata": {},
     "output_type": "execute_result"
    }
   ],
   "source": [
    "similar_sentences = doc2vec_EDA(tokenized_summary, sentences_in_book)\n",
    "\n",
    "similar_sentences"
   ]
  },
  {
   "cell_type": "code",
   "execution_count": 7,
   "metadata": {
    "collapsed": false
   },
   "outputs": [],
   "source": [
    "vector_index = [int(vector[0]) for vector in similar_sentences[1:]]\n",
    "sim_sentence = [sentences_in_book[index] for index in vector_index[:229]]\n",
    "total_sentence = ' '.join(sim_sentence)"
   ]
  },
  {
   "cell_type": "code",
   "execution_count": null,
   "metadata": {
    "collapsed": false
   },
   "outputs": [],
   "source": []
  },
  {
   "cell_type": "code",
   "execution_count": 11,
   "metadata": {
    "collapsed": false
   },
   "outputs": [
    {
     "data": {
      "text/plain": [
       "0.0004248088360237893"
      ]
     },
     "execution_count": 11,
     "metadata": {},
     "output_type": "execute_result"
    }
   ],
   "source": [
    "rouge_ref_summary = ' '.join(reference_summary)\n",
    "rouge_score(total_sentence, rouge_ref_summary, n=2)"
   ]
  },
  {
   "cell_type": "markdown",
   "metadata": {},
   "source": [
    "# Notes:\n",
    "- Looks like the highest ROUGE score with the most optimal sentence selection would be 0.29. At random, it hovers at around 0.13 to 0.14.\n",
    "- I need more books in here to get a better number."
   ]
  },
  {
   "cell_type": "code",
   "execution_count": 12,
   "metadata": {
    "collapsed": false
   },
   "outputs": [
    {
     "data": {
      "text/plain": [
       "53807"
      ]
     },
     "execution_count": 12,
     "metadata": {},
     "output_type": "execute_result"
    }
   ],
   "source": [
    "len(total_sentence)"
   ]
  },
  {
   "cell_type": "code",
   "execution_count": null,
   "metadata": {
    "collapsed": true
   },
   "outputs": [],
   "source": []
  }
 ],
 "metadata": {
  "kernelspec": {
   "display_name": "Python [default]",
   "language": "python",
   "name": "python2"
  },
  "language_info": {
   "codemirror_mode": {
    "name": "ipython",
    "version": 2
   },
   "file_extension": ".py",
   "mimetype": "text/x-python",
   "name": "python",
   "nbconvert_exporter": "python",
   "pygments_lexer": "ipython2",
   "version": "2.7.13"
  }
 },
 "nbformat": 4,
 "nbformat_minor": 2
}
